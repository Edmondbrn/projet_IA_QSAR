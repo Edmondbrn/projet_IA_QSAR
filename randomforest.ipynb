{
 "cells": [
  {
   "cell_type": "markdown",
   "metadata": {},
   "source": [
    "## Fichier dédié à l'établissement du modèle de régression RandomForest"
   ]
  },
  {
   "cell_type": "code",
   "execution_count": 1,
   "metadata": {},
   "outputs": [],
   "source": [
    "import pandas as pd\n",
    "from sklearn.ensemble import RandomForestRegressor\n",
    "from sklearn.model_selection import LeaveOneOut\n",
    "from scipy.stats import pearsonr\n",
    "import qsar_utils as qu"
   ]
  },
  {
   "cell_type": "markdown",
   "metadata": {},
   "source": [
    "### Lecture des données"
   ]
  },
  {
   "cell_type": "code",
   "execution_count": 2,
   "metadata": {},
   "outputs": [],
   "source": [
    "df_norm = pd.read_csv(\"data/qsar_fish_toxicity_norm.csv\")\n",
    "df_raw = pd.read_csv(\"data/qsar_fish_toxicity.csv\")\n",
    "df_LC50 = df_norm[\"LC50\"]\n",
    "df_norm = df_norm.drop(columns = \"LC50\")\n",
    "df_raw = df_raw.drop(columns=\"LC50\")"
   ]
  }
 ],
 "metadata": {
  "kernelspec": {
   "display_name": "projet_ia",
   "language": "python",
   "name": "python3"
  },
  "language_info": {
   "codemirror_mode": {
    "name": "ipython",
    "version": 3
   },
   "file_extension": ".py",
   "mimetype": "text/x-python",
   "name": "python",
   "nbconvert_exporter": "python",
   "pygments_lexer": "ipython3",
   "version": "3.10.16"
  }
 },
 "nbformat": 4,
 "nbformat_minor": 2
}
